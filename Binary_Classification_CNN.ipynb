{
 "cells": [
  {
   "cell_type": "markdown",
   "metadata": {},
   "source": [
    "## Binary-Classification-using-CNN\n",
    "\n",
    "This notebook has 3 stages:\n",
    "* Data Processing\n",
    "* Defining and Training the CNN model\n",
    "* Testing the model on custom images"
   ]
  },
  {
   "cell_type": "code",
   "execution_count": 1,
   "metadata": {},
   "outputs": [
    {
     "name": "stderr",
     "output_type": "stream",
     "text": [
      "Using TensorFlow backend.\n"
     ]
    },
    {
     "name": "stdout",
     "output_type": "stream",
     "text": [
      "Found 8000 images belonging to 2 classes.\n",
      "Found 2000 images belonging to 2 classes.\n"
     ]
    }
   ],
   "source": [
    "# Part 1 - Getting the data and defining parameters\n",
    "\n",
    "from keras.preprocessing.image import ImageDataGenerator\n",
    "\n",
    "train_datagen = ImageDataGenerator(rescale = 1./255,\n",
    "                                   shear_range = 0.2,\n",
    "                                   zoom_range = 0.2,\n",
    "                                   horizontal_flip = True)\n",
    "\n",
    "test_datagen = ImageDataGenerator(rescale = 1./255)\n",
    "\n",
    "training_set = train_datagen.flow_from_directory(r'D:\\freelance posters and projects\\Udemy deep learning course\\Convolutional_Neural_Networks\\dataset\\training_set',\n",
    "                                                 target_size = (64, 64),\n",
    "                                                 batch_size = 4,\n",
    "                                                 class_mode = 'binary')\n",
    "\n",
    "test_set = test_datagen.flow_from_directory(r'D:\\freelance posters and projects\\Udemy deep learning course\\Convolutional_Neural_Networks\\dataset\\test_set',\n",
    "                                            target_size = (64, 64),\n",
    "                                            batch_size = 4,\n",
    "                                            class_mode = 'binary')\n",
    "\n",
    "\n",
    "\n",
    "\n"
   ]
  },
  {
   "cell_type": "code",
   "execution_count": 2,
   "metadata": {},
   "outputs": [
    {
     "name": "stdout",
     "output_type": "stream",
     "text": [
      "WARNING:tensorflow:From D:\\anaconda\\lib\\site-packages\\tensorflow\\python\\framework\\op_def_library.py:263: colocate_with (from tensorflow.python.framework.ops) is deprecated and will be removed in a future version.\n",
      "Instructions for updating:\n",
      "Colocations handled automatically by placer.\n"
     ]
    }
   ],
   "source": [
    "# Part 2 - Creating the CNN model\n",
    "\n",
    "# Importing the Keras libraries and packages\n",
    "from keras.models import Sequential\n",
    "from keras.layers import Conv2D\n",
    "from keras.layers import MaxPooling2D\n",
    "from keras.layers import Flatten\n",
    "from keras.layers import Dense\n",
    "\n",
    "# Initialising the CNN\n",
    "classifier = Sequential()\n",
    "\n",
    "# Step 1 - Convolution\n",
    "classifier.add(Conv2D(32, (3, 3), input_shape = (64, 64, 3), activation = 'relu'))\n",
    "\n",
    "# Step 2 - Pooling\n",
    "classifier.add(MaxPooling2D(pool_size = (2, 2)))\n",
    "\n",
    "# Adding a second convolutional layer\n",
    "classifier.add(Conv2D(32, (3, 3), activation = 'relu'))\n",
    "classifier.add(MaxPooling2D(pool_size = (2, 2)))\n",
    "\n",
    "# Step 3 - Flattening\n",
    "classifier.add(Flatten())\n",
    "\n",
    "# Step 4 - Full connection\n",
    "classifier.add(Dense(units = 128, activation = 'relu'))\n",
    "classifier.add(Dense(units = 1, activation = 'sigmoid'))\n",
    "\n",
    "# Compiling the CNN\n",
    "classifier.compile(optimizer = 'adam', loss = 'binary_crossentropy', metrics = ['accuracy'])"
   ]
  },
  {
   "cell_type": "code",
   "execution_count": 3,
   "metadata": {},
   "outputs": [
    {
     "name": "stdout",
     "output_type": "stream",
     "text": [
      "WARNING:tensorflow:From D:\\anaconda\\lib\\site-packages\\tensorflow\\python\\ops\\math_ops.py:3066: to_int32 (from tensorflow.python.ops.math_ops) is deprecated and will be removed in a future version.\n",
      "Instructions for updating:\n",
      "Use tf.cast instead.\n",
      "Epoch 1/25\n",
      "8000/8000 [==============================] - 780s 97ms/step - loss: 0.6090 - acc: 0.6582 - val_loss: 0.5355 - val_acc: 0.7385\n",
      "Epoch 2/25\n",
      "8000/8000 [==============================] - 455s 57ms/step - loss: 0.4946 - acc: 0.7576 - val_loss: 0.5213 - val_acc: 0.7460\n",
      "Epoch 3/25\n",
      "8000/8000 [==============================] - 459s 57ms/step - loss: 0.4343 - acc: 0.7964 - val_loss: 0.5501 - val_acc: 0.7465\n",
      "Epoch 4/25\n",
      "8000/8000 [==============================] - 433s 54ms/step - loss: 0.3825 - acc: 0.8267 - val_loss: 0.5141 - val_acc: 0.7895\n",
      "Epoch 5/25\n",
      "8000/8000 [==============================] - 423s 53ms/step - loss: 0.3347 - acc: 0.8558 - val_loss: 0.5584 - val_acc: 0.7855\n",
      "Epoch 6/25\n",
      "8000/8000 [==============================] - 424s 53ms/step - loss: 0.2911 - acc: 0.8752 - val_loss: 0.7314 - val_acc: 0.7705\n",
      "Epoch 7/25\n",
      "8000/8000 [==============================] - 429s 54ms/step - loss: 0.2551 - acc: 0.8918 - val_loss: 0.6217 - val_acc: 0.7850\n",
      "Epoch 8/25\n",
      "8000/8000 [==============================] - 426s 53ms/step - loss: 0.2242 - acc: 0.9081 - val_loss: 0.7412 - val_acc: 0.7835\n",
      "Epoch 9/25\n",
      "8000/8000 [==============================] - 429s 54ms/step - loss: 0.1992 - acc: 0.9206 - val_loss: 0.6714 - val_acc: 0.7870\n",
      "Epoch 10/25\n",
      "8000/8000 [==============================] - 438s 55ms/step - loss: 0.1817 - acc: 0.9272 - val_loss: 0.7569 - val_acc: 0.7885\n",
      "Epoch 11/25\n",
      "8000/8000 [==============================] - 433s 54ms/step - loss: 0.1611 - acc: 0.9369 - val_loss: 0.7717 - val_acc: 0.7850\n",
      "Epoch 12/25\n",
      "8000/8000 [==============================] - 441s 55ms/step - loss: 0.1489 - acc: 0.9438 - val_loss: 0.9157 - val_acc: 0.7735\n",
      "Epoch 13/25\n",
      "8000/8000 [==============================] - 442s 55ms/step - loss: 0.1369 - acc: 0.9474 - val_loss: 0.8687 - val_acc: 0.7870\n",
      "Epoch 14/25\n",
      "8000/8000 [==============================] - 437s 55ms/step - loss: 0.1305 - acc: 0.9523 - val_loss: 0.9743 - val_acc: 0.7745\n",
      "Epoch 15/25\n",
      "8000/8000 [==============================] - 437s 55ms/step - loss: 0.1205 - acc: 0.9558 - val_loss: 0.9728 - val_acc: 0.7695\n",
      "Epoch 16/25\n",
      "8000/8000 [==============================] - 438s 55ms/step - loss: 0.1148 - acc: 0.9579 - val_loss: 0.9548 - val_acc: 0.7725\n",
      "Epoch 17/25\n",
      "8000/8000 [==============================] - 439s 55ms/step - loss: 0.1102 - acc: 0.9606 - val_loss: 0.9183 - val_acc: 0.7865\n",
      "Epoch 18/25\n",
      "8000/8000 [==============================] - 439s 55ms/step - loss: 0.1017 - acc: 0.9634 - val_loss: 1.2213 - val_acc: 0.7485\n",
      "Epoch 19/25\n",
      "8000/8000 [==============================] - 442s 55ms/step - loss: 0.0987 - acc: 0.9644 - val_loss: 1.0451 - val_acc: 0.7870\n",
      "Epoch 20/25\n",
      "8000/8000 [==============================] - 445s 56ms/step - loss: 0.0893 - acc: 0.9682 - val_loss: 1.1223 - val_acc: 0.7590\n",
      "Epoch 21/25\n",
      "8000/8000 [==============================] - 441s 55ms/step - loss: 0.0916 - acc: 0.9690 - val_loss: 1.1849 - val_acc: 0.7835\n",
      "Epoch 22/25\n",
      "8000/8000 [==============================] - 442s 55ms/step - loss: 0.0804 - acc: 0.9715 - val_loss: 1.2198 - val_acc: 0.7800\n",
      "Epoch 23/25\n",
      "8000/8000 [==============================] - 444s 56ms/step - loss: 0.0827 - acc: 0.9718 - val_loss: 1.1646 - val_acc: 0.7835\n",
      "Epoch 24/25\n",
      "8000/8000 [==============================] - 444s 56ms/step - loss: 0.0783 - acc: 0.9726 - val_loss: 1.1878 - val_acc: 0.7945\n",
      "Epoch 25/25\n",
      "8000/8000 [==============================] - 458s 57ms/step - loss: 0.0790 - acc: 0.9724 - val_loss: 1.1233 - val_acc: 0.7670\n"
     ]
    },
    {
     "data": {
      "text/plain": [
       "<keras.callbacks.History at 0x208814a47f0>"
      ]
     },
     "execution_count": 3,
     "metadata": {},
     "output_type": "execute_result"
    }
   ],
   "source": [
    "classifier.fit_generator(training_set,\n",
    "                         steps_per_epoch = 8000,\n",
    "                         epochs = 25,\n",
    "                         validation_data = test_set,\n",
    "                         validation_steps = 2000)\n"
   ]
  },
  {
   "cell_type": "markdown",
   "metadata": {},
   "source": [
    "___"
   ]
  },
  {
   "cell_type": "markdown",
   "metadata": {},
   "source": [
    "**Now that the model is trained, it can classify an image as cat or dog. To verify the prediction, this image is feeded into the model:**\n",
    "\n",
    "![Cat_or_Dog](cat_or_dog_1.jpg \"Cat_or_Dog\")"
   ]
  },
  {
   "cell_type": "code",
   "execution_count": 14,
   "metadata": {},
   "outputs": [
    {
     "name": "stdout",
     "output_type": "stream",
     "text": [
      "dog\n"
     ]
    }
   ],
   "source": [
    "# Part 3 - Making new predictions\n",
    "\n",
    "import numpy as np\n",
    "from keras.preprocessing import image\n",
    "test_image = image.load_img(r'D:\\freelance posters and projects\\Udemy deep learning course\\Convolutional_Neural_Networks\\dataset\\single_prediction\\cat_or_dog_2.jpg', target_size = (64, 64))\n",
    "test_image = image.img_to_array(test_image)\n",
    "test_image = np.expand_dims(test_image, axis = 0)\n",
    "result = classifier.predict(test_image)\n",
    "training_set.class_indices\n",
    "if result[0][0] == 1:\n",
    "    prediction = 'dog'\n",
    "    print('dog')\n",
    "else:\n",
    "    prediction = 'cat'\n",
    "    print('cat')"
   ]
  }
 ],
 "metadata": {
  "kernelspec": {
   "display_name": "Python 3",
   "language": "python",
   "name": "python3"
  },
  "language_info": {
   "codemirror_mode": {
    "name": "ipython",
    "version": 3
   },
   "file_extension": ".py",
   "mimetype": "text/x-python",
   "name": "python",
   "nbconvert_exporter": "python",
   "pygments_lexer": "ipython3",
   "version": "3.7.3"
  }
 },
 "nbformat": 4,
 "nbformat_minor": 2
}
